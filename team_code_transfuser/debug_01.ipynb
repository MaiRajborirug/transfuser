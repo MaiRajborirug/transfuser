{
 "cells": [
  {
   "cell_type": "code",
   "execution_count": 1,
   "metadata": {},
   "outputs": [
    {
     "name": "stderr",
     "output_type": "stream",
     "text": [
      "/home/haoming/anaconda3/envs/tfuse-pharuj/lib/python3.7/site-packages/ipykernel_launcher.py:6: DeprecationWarning: the imp module is deprecated in favour of importlib; see the module's documentation for alternative uses\n",
      "  \n"
     ]
    },
    {
     "name": "stdout",
     "output_type": "stream",
     "text": [
      "pygame 2.0.1 (SDL 2.0.14, Python 3.7.13)\n",
      "Hello from the pygame community. https://www.pygame.org/contribute.html\n"
     ]
    }
   ],
   "source": [
    "\n",
    "\n",
    "import os\n",
    "import json\n",
    "import datetime\n",
    "import pathlib\n",
    "import time\n",
    "import imp\n",
    "import cv2\n",
    "import carla\n",
    "from collections import deque\n",
    "\n",
    "import torch\n",
    "import carla\n",
    "import numpy as np\n",
    "from PIL import Image\n",
    "from easydict import EasyDict\n",
    "\n",
    "import torchvision.transforms as T\n",
    "# from leaderboard.autoagents import autonomous_agent\n",
    "import math\n",
    "import yaml\n",
    "\n",
    "from optical_flow import optical_flow\n",
    "from segmentation import segmentation\n",
    "from rgb_seg import UNet, Unetpad, group_segment\n",
    "\n",
    "# from team_code_transfuser.alg1_pycuda import Algorithm1\n",
    "from alg1_pycuda_copy import Algorithm1 #\n",
    "from alg2 import Algorithm2\n",
    "from srunner.scenariomanager.carla_data_provider import CarlaDataProvider\n",
    "# from submission_agent import HybridAgent\n",
    "from optical_flow import OpticalFlowVisualizer\n",
    "from collections import deque\n",
    "import torchvision.transforms as transforms\n",
    "\n",
    "from memory_profiler import profile\n",
    "\n",
    "try:\n",
    "    import pygame\n",
    "except ImportError:\n",
    "    raise RuntimeError(\"cannot import pygame, make sure pygame package is installed\")\n",
    "\n",
    "def get_entry_point():\n",
    "    return \"agent\"\n",
    "\n",
    "import matplotlib.pyplot as plt"
   ]
  },
  {
   "cell_type": "code",
   "execution_count": 2,
   "metadata": {},
   "outputs": [],
   "source": [
    "class TF():\n",
    "    def __init__(self):\n",
    "        self.fov = 120\n",
    "        self.camera_width = 960\n",
    "        self.camera_height = 480\n",
    "        self.ppd = self.camera_width / self.fov\n",
    "        # define ourselves # original size\n",
    "        self.camera_size_x = 0.096\n",
    "        self.camera_size_y = 0.048\n",
    "        \n",
    "        # NOTE: for control mapping\n",
    "        self.delta_time = 0.05 # CarlaDataProvider.get_world().get_settings().fixed_delta_seconds\n",
    "        self.throttle_controller = PIDController(K_P=5.0, K_I=0.5, K_D=1, n=20) # throttle PID controller\n",
    "        self.c_speed_sqrt = 0.032 # constant for throttle_control\n",
    "        self.c_acc = 0.025\n",
    "        self.c_w_sq = 0.04\n",
    "        self.c_w = 0.01\n",
    "        self._step = -1\n",
    "        self.turning_radius = 2.5 # This is the minimum turning radius of the vehicle when steer = 1\n",
    "        self.agent_front2back_whl = 2.9 # This property are from agent_vehicle.get_physics_control()\n",
    "        self.agent_backwhl2cm = 1.75 # This property are from agent_vehicle.get_physics_control()\n",
    "        \n",
    "        self._set_certificate_bound(x_deg_close=42, x_deg_far=32, y_deg=10, decay_temp=1.1, offset_scale=0.002)\n",
    "        self.alg1_solver = Algorithm1(self.focal_len, (self.camera_width, self.camera_height), self.X, self.Y, self.certification_offset) \n",
    "        self.optical_flow = optical_flow(self.camera_height, self.camera_width, self.meters_per_pixel_x, self.meters_per_pixel_y)\n",
    "        \n",
    "    def _create_XY(self, camera_x_idx_to_x, camera_y_idx_to_y):\n",
    "\n",
    "        x_mid = self.camera_width // 2\n",
    "        y_mid = self.camera_height // 2\n",
    "        xaxis = np.linspace(-x_mid, x_mid, self.camera_width)\n",
    "        yaxis = np.linspace(-y_mid, y_mid, self.camera_height)\n",
    "\n",
    "        X, Y = np.meshgrid(xaxis, yaxis)\n",
    "        X = X * camera_x_idx_to_x\n",
    "        Y = Y * camera_y_idx_to_y\n",
    "        X = X.astype(np.float32)\n",
    "        Y = Y.astype(np.float32)\n",
    "\n",
    "        return X, Y\n",
    "\n",
    "    def _set_certificate_bound(self, x_deg_close=42, x_deg_far=32, y_deg=10, decay_temp=1.1, offset_scale=0.002):\n",
    "        # relate to SC boundary\n",
    "        self.meters_per_pixel_x = self.camera_size_x / self.camera_width\n",
    "        self.meters_per_pixel_y = self.camera_size_y / self.camera_height\n",
    "        \n",
    "        self.optical_flow = optical_flow(self.camera_height, self.camera_width, self.meters_per_pixel_x, self.meters_per_pixel_y)\n",
    "        \n",
    "        # https://github.com/carla-simulator/carla/issues/56\n",
    "        # assume fov is measured horizontally\n",
    "        self.focal_len = self.camera_size_x / 2 / np.tan(np.deg2rad(self.fov / 2))\n",
    "        X, Y = self._create_XY(self.meters_per_pixel_x, self.meters_per_pixel_y)\n",
    "        self.X = X\n",
    "        self.Y = Y\n",
    "\n",
    "        self.no_certification_required = np.full((self.camera_height, self.camera_width), True)\n",
    "        x_mid = self.camera_width // 2\n",
    "        y_mid = self.camera_height // 2\n",
    "\n",
    "        # create tropazoid shape boundary in BEV\n",
    "        temp_slope_xy = x_deg_far * self.ppd / self.camera_height # slope of BEV regtangular safety box in camera view\n",
    "        temp_x = temp_slope_xy * y_deg*self.ppd\n",
    "\n",
    "        # slope of BEV trapezoid safety box in camera view = delta x / delta y\n",
    "        temp_dx = (x_deg_close/2*self.ppd - temp_x)\n",
    "        temp_dy = (y_mid-y_deg*self.ppd) \n",
    "        x_y_slope = temp_dx / temp_dy\n",
    "        # y_x_slope = 1/x_y_slope\n",
    "        sin_theta = temp_dx / np.sqrt(temp_dx**2 + temp_dy**2) # angle of troposoid compare to a straight line\n",
    "        \n",
    "        for i in range(self.camera_height):\n",
    "            for j in range(self.camera_width):\n",
    "                # / line: -(j-x_mid) = (i-y_mid)*x_y_slope\n",
    "                if -(j-x_mid) < (i-y_mid)*x_y_slope and (j-x_mid) < (i-y_mid)*x_y_slope and (i-y_mid) > (y_deg*self.ppd):  # region / \\ -\n",
    "                    self.no_certification_required[i,j] = False\n",
    "    \n",
    "        self.certification_offset = np.full((self.camera_height, self.camera_width), 0.0)\n",
    "        offset_w = y_deg*self.ppd*x_y_slope # offset use to shift the line to the left and right\n",
    "        \n",
    "        for i in range(self.camera_height):\n",
    "            for j in range(self.camera_width):\n",
    "                if self.no_certification_required[i,j] == False:\n",
    "                    # point distance (j,i) from line Aj + Bi + C = 0 -> D = |Aj + Bi + C|/sqrt(A^2 + B^2)\n",
    "                    # distance from lines / \\ -\n",
    "                    temp = np.min(np.abs(np.array([(x_y_slope*i + j- x_y_slope*y_mid - x_mid)/np.sqrt(x_y_slope**2+1),\n",
    "                                                                      (x_y_slope*i - j- x_y_slope*y_mid + x_mid)/np.sqrt(x_y_slope**2+1),\n",
    "                                                                      (i-y_mid-y_deg*self.ppd)])))\n",
    "                    self.certification_offset[i,j] = (temp ** decay_temp)\n",
    "                elif -(j-x_mid-2*offset_w) > (i-y_mid)*x_y_slope and (j-x_mid+2*offset_w) > (i-y_mid)*x_y_slope:  # in upper \\_/ region\n",
    "                    # transform distance in _ to be equal to distance in / \\\n",
    "                    temp = np.absolute(i-y_mid-y_deg*self.ppd) # * 2 * sin_theta \n",
    "                    self.certification_offset[i,j] = -(temp ** decay_temp) * 2\n",
    "                elif -(j-x_mid) < (i-y_mid)*x_y_slope: # /\n",
    "                    temp = np.absolute(x_y_slope*i - j- x_y_slope*y_mid + x_mid)/np.sqrt(x_y_slope**2+1)\n",
    "                    self.certification_offset[i,j] = -(temp ** decay_temp) /2 / sin_theta *2\n",
    "                else:\n",
    "                    temp = np.absolute(x_y_slope*i + j- x_y_slope*y_mid - x_mid)/np.sqrt(x_y_slope**2+1)\n",
    "                    self.certification_offset[i,j] = -(temp** decay_temp) /2 / sin_theta *2\n",
    "        self.certification_offset = offset_scale * self.certification_offset\n",
    "        self.no_certification_required = np.full((self.camera_height, self.camera_width), False)\n",
    "\n",
    "        is_sky = np.full((self.camera_height, self.camera_width), False)\n",
    "        is_sky[0:self.camera_height // 2, :] = True\n",
    "        self.no_certification_required = np.logical_or(is_sky, self.no_certification_required)\n",
    "    \n",
    "    def run_step(self):\n",
    "        np.load()\n",
    "        \n",
    "class PIDController(object):\n",
    "    def __init__(self, K_P=1.0, K_I=0.0, K_D=0.0, n=20):\n",
    "        self._K_P = K_P\n",
    "        self._K_I = K_I\n",
    "        self._K_D = K_D\n",
    "\n",
    "        self._window = deque([0 for _ in range(n)], maxlen=n)\n",
    "\n",
    "    def step(self, error):\n",
    "        self._window.append(error)\n",
    "\n",
    "        if len(self._window) >= 2:\n",
    "            integral = np.mean(self._window)\n",
    "            derivative = (self._window[-1] - self._window[-2])\n",
    "        else:\n",
    "            integral = 0.0\n",
    "            derivative = 0.0\n",
    "\n",
    "        return self._K_P * error + self._K_I * integral + self._K_D * derivative"
   ]
  },
  {
   "cell_type": "code",
   "execution_count": 3,
   "metadata": {},
   "outputs": [],
   "source": [
    "class DM():\n",
    "    def __init__(self):\n",
    "        # NOTE: for control mapping\n",
    "        self.delta_time = 0.05#CarlaDataProvider.get_world().get_settings().fixed_delta_seconds\n",
    "        self.throttle_controller = PIDController(K_P=5.0, K_I=0.5, K_D=1, n=20)\n",
    "        self.c_speed_sqrt = 0.032 # constant for throttle_control\n",
    "        self.c_acc = 0.025\n",
    "        self.c_omega_sq = 0.04\n",
    "        self.c_omega = 0.01\n",
    "        self.step = -1\n",
    "        self.turning_radius = 2.5 # estimate min radius at steer = 1\n",
    "        \n",
    "        # NOTE: added SC boundary\n",
    "        self.fov = 120\n",
    "        self.camera_width = 960\n",
    "        self.camera_height = 480\n",
    "        self.ppd = self.camera_width / self.fov # pixel:degree # assume the same for x and y\n",
    "        # define ourselves # original size\n",
    "        self.camera_size_x = 0.0960\n",
    "        self.camera_size_y = 0.048\n",
    "        self.cam_config = {\n",
    "            'width': 960,\n",
    "            'height': 480,\n",
    "            'fov': 120\n",
    "        }\n",
    "        # Certificate \n",
    "        self.certify_threshold = 0.985\n",
    "        \n",
    "        self._set_certificate_bound(x_deg_close=42, x_deg_far=32, y_deg=10, decay_temp=1.1, offset_scale=0.002)\n",
    "        \n",
    "\n",
    "        # TODO test when turn-off safety certificate\n",
    "        # self.no_certification_required = np.full((self.camera_height, self.camera_width), True)\n",
    "        # self.certification_offset = np.full((self.camera_height, self.camera_width), -1000000)\n",
    "\n",
    "        # calculate chi\n",
    "        # algorithm 1 setup\n",
    "        self.alg1_solver = Algorithm1(self.focal_len, (self.camera_width, self.camera_height), self.X, self.Y, self.certification_offset) \n",
    "        \n",
    "    def _create_XY(self, camera_x_idx_to_x, camera_y_idx_to_y):\n",
    "\n",
    "        x_mid = self.camera_width // 2\n",
    "        y_mid = self.camera_height // 2\n",
    "        xaxis = np.linspace(-x_mid, x_mid, self.camera_width)\n",
    "        yaxis = np.linspace(-y_mid, y_mid, self.camera_height)\n",
    "\n",
    "        X, Y = np.meshgrid(xaxis, yaxis)\n",
    "        X = X * camera_x_idx_to_x\n",
    "        Y = Y * camera_y_idx_to_y\n",
    "        X = X.astype(np.float32)\n",
    "        Y = Y.astype(np.float32)\n",
    "\n",
    "        return X, Y\n",
    "\n",
    "    def _set_certificate_bound(self, x_deg_close=42, x_deg_far=32, y_deg=10, decay_temp=1.1, offset_scale=0.002):\n",
    "        # relate to SC boundary\n",
    "        meters_per_pixel_x = self.camera_size_x / self.camera_width\n",
    "        meters_per_pixel_y = self.camera_size_y / self.camera_height\n",
    "        \n",
    "        self.optical_flow = optical_flow(self.camera_height, self.camera_width, meters_per_pixel_x, meters_per_pixel_y)\n",
    "        \n",
    "        # https://github.com/carla-simulator/carla/issues/56\n",
    "        # assume fov is measured horizontally\n",
    "        self.focal_len = self.camera_size_x / 2 / np.tan(np.deg2rad(self.fov / 2))\n",
    "        print(\"focal length: \", self.focal_len)\n",
    "        X, Y = self.create_XY(meters_per_pixel_x, meters_per_pixel_y)\n",
    "        self.X = X\n",
    "        self.Y = Y\n",
    "\n",
    "        self.no_certification_required = np.full((self.camera_height, self.camera_width), True)\n",
    "        x_mid = self.camera_width // 2\n",
    "        y_mid = self.camera_height // 2\n",
    "\n",
    "        # create tropazoid shape boundary in BEV\n",
    "        temp_slope_xy = x_deg_far * self.ppd / self.camera_height # slope of BEV regtangular safety box in camera view\n",
    "        temp_x = temp_slope_xy * y_deg*self.ppd\n",
    "\n",
    "        # slope of BEV trapezoid safety box in camera view = delta x / delta y\n",
    "        temp_dx = (x_deg_close/2*self.ppd - temp_x)\n",
    "        temp_dy = (y_mid-y_deg*self.ppd) \n",
    "        x_y_slope = temp_dx / temp_dy\n",
    "        # y_x_slope = 1/x_y_slope\n",
    "        sin_theta = temp_dx / np.sqrt(temp_dx**2 + temp_dy**2) # angle of troposoid compare to a straight line\n",
    "        \n",
    "        for i in range(self.camera_height):\n",
    "            for j in range(self.camera_width):\n",
    "                # / line: -(j-x_mid) = (i-y_mid)*x_y_slope\n",
    "                if -(j-x_mid) < (i-y_mid)*x_y_slope and (j-x_mid) < (i-y_mid)*x_y_slope and (i-y_mid) > (y_deg*self.ppd):  # region / \\ -\n",
    "                    self.no_certification_required[i,j] = False\n",
    "    \n",
    "        self.certification_offset = np.full((self.camera_height, self.camera_width), 0.0)\n",
    "        offset_w = y_deg*self.ppd*x_y_slope # offset use to shift the line to the left and right\n",
    "        \n",
    "        for i in range(self.camera_height):\n",
    "            for j in range(self.camera_width):\n",
    "                if self.no_certification_required[i,j] == False:\n",
    "                    # point distance (j,i) from line Aj + Bi + C = 0 -> D = |Aj + Bi + C|/sqrt(A^2 + B^2)\n",
    "                    # distance from lines / \\ -\n",
    "                    temp = np.min(np.abs(np.array([(x_y_slope*i + j- x_y_slope*y_mid - x_mid)/np.sqrt(x_y_slope**2+1),\n",
    "                                                                      (x_y_slope*i - j- x_y_slope*y_mid + x_mid)/np.sqrt(x_y_slope**2+1),\n",
    "                                                                      (i-y_mid-y_deg*self.ppd)])))\n",
    "                    self.certification_offset[i,j] = (temp ** decay_temp)\n",
    "                elif -(j-x_mid-2*offset_w) > (i-y_mid)*x_y_slope and (j-x_mid+2*offset_w) > (i-y_mid)*x_y_slope:  # in upper \\_/ region\n",
    "                    # transform distance in _ to be equal to distance in / \\\n",
    "                    temp = np.absolute(i-y_mid-y_deg*self.ppd) # * 2 * sin_theta \n",
    "                    self.certification_offset[i,j] = -(temp ** decay_temp) * 2\n",
    "                elif -(j-x_mid) < (i-y_mid)*x_y_slope: # /\n",
    "                    temp = np.absolute(x_y_slope*i - j- x_y_slope*y_mid + x_mid)/np.sqrt(x_y_slope**2+1)\n",
    "                    self.certification_offset[i,j] = -(temp ** decay_temp) /2 / sin_theta *2\n",
    "                else:\n",
    "                    temp = np.absolute(x_y_slope*i + j- x_y_slope*y_mid - x_mid)/np.sqrt(x_y_slope**2+1)\n",
    "                    self.certification_offset[i,j] = -(temp** decay_temp) /2 / sin_theta *2\n",
    "        self.certification_offset = offset_scale * self.certification_offset\n",
    "        self.no_certification_required = np.full((self.camera_height, self.camera_width), False)\n",
    "        np.save('/media/haoming/970EVO/Pharuj/git/DOS/testing_codes/dummy.npy', self.certification_offset)\n",
    "\n",
    "        is_sky = np.full((self.camera_height, self.camera_width), False)\n",
    "        is_sky[0:self.camera_height // 2, :] = True\n",
    "        self.no_certification_required = np.logical_or(is_sky, self.no_certification_required)\n",
    "        \n",
    "    def create_XY(self, camera_x_idx_to_x, camera_y_idx_to_y):\n",
    "\n",
    "        x_mid = self.camera_width // 2\n",
    "        y_mid = self.camera_height // 2\n",
    "        xaxis = np.linspace(-x_mid, x_mid, self.camera_width)\n",
    "        yaxis = np.linspace(-y_mid, y_mid, self.camera_height)\n",
    "\n",
    "        X, Y = np.meshgrid(xaxis, yaxis)\n",
    "        X = X * camera_x_idx_to_x\n",
    "        Y = Y * camera_y_idx_to_y\n",
    "        X = X.astype(np.float32)\n",
    "        Y = Y.astype(np.float32)\n",
    "\n",
    "        # print(\"X row:\", X[0, :])\n",
    "        # print(\"Y col:\", Y[:, 0])\n",
    "        return X, Y\n",
    "        \n",
    "class PIDController(object):\n",
    "    def __init__(self, K_P=1.0, K_I=0.0, K_D=0.0, n=20):\n",
    "        self._K_P = K_P\n",
    "        self._K_I = K_I\n",
    "        self._K_D = K_D\n",
    "\n",
    "        self._window = deque([0 for _ in range(n)], maxlen=n)\n",
    "\n",
    "    def step(self, error):\n",
    "        self._window.append(error)\n",
    "\n",
    "        if len(self._window) >= 2:\n",
    "            integral = np.mean(self._window)\n",
    "            derivative = (self._window[-1] - self._window[-2])\n",
    "        else:\n",
    "            integral = 0.0\n",
    "            derivative = 0.0\n",
    "\n",
    "        return self._K_P * error + self._K_I * integral + self._K_D * derivative"
   ]
  },
  {
   "cell_type": "code",
   "execution_count": 4,
   "metadata": {},
   "outputs": [
    {
     "data": {
      "text/plain": [
       "array([[-3.19115246, -3.18589796, -3.18064425, ..., -3.17539133,\n",
       "        -3.18064425, -3.18589796],\n",
       "       [-3.18703637, -3.18178249, -3.17652939, ..., -3.17127709,\n",
       "        -3.17652939, -3.18178249],\n",
       "       [-3.18292076, -3.1776675 , -3.17241502, ..., -3.16716334,\n",
       "        -3.17241502, -3.1776675 ],\n",
       "       ...,\n",
       "       [-1.2955193 , -1.29067871, -1.28583976, ..., -1.28100248,\n",
       "        -1.28583976, -1.29067871],\n",
       "       [-1.29172736, -1.28688806, -1.28205041, ..., -1.27721442,\n",
       "        -1.28205041, -1.28688806],\n",
       "       [-1.28793644, -1.28309843, -1.27826208, ..., -1.27342739,\n",
       "        -1.27826208, -1.28309843]])"
      ]
     },
     "execution_count": 4,
     "metadata": {},
     "output_type": "execute_result"
    }
   ],
   "source": [
    "tf = TF()\n",
    "tf.certification_offset"
   ]
  },
  {
   "cell_type": "code",
   "execution_count": 5,
   "metadata": {},
   "outputs": [
    {
     "data": {
      "text/plain": [
       "<matplotlib.image.AxesImage at 0x7fcfc6061290>"
      ]
     },
     "execution_count": 5,
     "metadata": {},
     "output_type": "execute_result"
    },
    {
     "data": {
      "image/png": "[encoded data removed]",
      "text/plain": [
       "<Figure size 640x480 with 1 Axes>"
      ]
     },
     "metadata": {},
     "output_type": "display_data"
    }
   ],
   "source": [
    "haha = list(np.load('/media/haoming/970EVO/Pharuj/git/DOS/test_station/tf_v.npy'))\n",
    "(v_e, w_e,control_acc,control_steering_rate) = haha\n",
    "\n",
    "is_animated = np.load('/media/haoming/970EVO/Pharuj/git/DOS/test_station/tf_animate.npy')\n",
    "\n",
    "nu = np.load('/media/haoming/970EVO/Pharuj/git/DOS/test_station/tf_nu.npy')\n",
    "mu = np.load('/media/haoming/970EVO/Pharuj/git/DOS/test_station/tf_mu.npy')\n",
    "\n",
    "out1, _ = tf.alg1_solver.run((mu,nu,v_e, w_e,control_acc,control_steering_rate, is_animated))\n",
    "plt.imshow(out1)"
   ]
  },
  {
   "cell_type": "code",
   "execution_count": 6,
   "metadata": {},
   "outputs": [
    {
     "data": {
      "text/plain": [
       "<matplotlib.image.AxesImage at 0x7fcfc107aad0>"
      ]
     },
     "execution_count": 6,
     "metadata": {},
     "output_type": "execute_result"
    },
    {
     "data": {
      "image/png": "[encoded data removed]",
      "text/plain": [
       "<Figure size 640x480 with 1 Axes>"
      ]
     },
     "metadata": {},
     "output_type": "display_data"
    }
   ],
   "source": [
    "plt.imshow(mu)"
   ]
  },
  {
   "cell_type": "code",
   "execution_count": 7,
   "metadata": {},
   "outputs": [
    {
     "name": "stdout",
     "output_type": "stream",
     "text": [
      "-3.191152456879044 0.48564572864031597\n"
     ]
    },
    {
     "data": {
      "image/png": "[encoded data removed]",
      "text/plain": [
       "<Figure size 640x480 with 1 Axes>"
      ]
     },
     "metadata": {},
     "output_type": "display_data"
    }
   ],
   "source": [
    "plt.imshow(tf.certification_offset)\n",
    "print(tf.certification_offset.min(), tf.certification_offset.max())"
   ]
  },
  {
   "cell_type": "code",
   "execution_count": 11,
   "metadata": {},
   "outputs": [
    {
     "name": "stdout",
     "output_type": "stream",
     "text": [
      "focal length:  0.027712812921102045\n"
     ]
    }
   ],
   "source": [
    "dm = DM()"
   ]
  },
  {
   "cell_type": "code",
   "execution_count": 12,
   "metadata": {},
   "outputs": [
    {
     "data": {
      "text/plain": [
       "<matplotlib.image.AxesImage at 0x7f485f665310>"
      ]
     },
     "execution_count": 12,
     "metadata": {},
     "output_type": "execute_result"
    },
    {
     "data": {
      "image/png": "[encoded data removed]",
      "text/plain": [
       "<Figure size 640x480 with 1 Axes>"
      ]
     },
     "metadata": {},
     "output_type": "display_data"
    }
   ],
   "source": [
    "haha = list(np.load('/media/haoming/970EVO/Pharuj/git/DOS/test_station/dm_v.npy'))\n",
    "(v_e, w_e,control_acc,control_steering_rate) = haha\n",
    "\n",
    "is_animated = np.load('/media/haoming/970EVO/Pharuj/git/DOS/test_station/dm_animate.npy')\n",
    "\n",
    "nu = np.load('/media/haoming/970EVO/Pharuj/git/DOS/test_station/dm_nu.npy')\n",
    "mu = np.load('/media/haoming/970EVO/Pharuj/git/DOS/test_station/dm_mu.npy')\n",
    "\n",
    "out2, _ = dm.alg1_solver.run((mu,nu,v_e, w_e,control_acc,control_steering_rate, is_animated))\n",
    "plt.imshow(out2)"
   ]
  },
  {
   "cell_type": "code",
   "execution_count": 45,
   "metadata": {},
   "outputs": [
    {
     "data": {
      "text/plain": [
       "array([[-3.19115246, -3.18589796, -3.18064425, ..., -3.17539133,\n",
       "        -3.18064425, -3.18589796],\n",
       "       [-3.18703637, -3.18178249, -3.17652939, ..., -3.17127709,\n",
       "        -3.17652939, -3.18178249],\n",
       "       [-3.18292076, -3.1776675 , -3.17241502, ..., -3.16716334,\n",
       "        -3.17241502, -3.1776675 ],\n",
       "       ...,\n",
       "       [-1.2955193 , -1.29067871, -1.28583976, ..., -1.28100248,\n",
       "        -1.28583976, -1.29067871],\n",
       "       [-1.29172736, -1.28688806, -1.28205041, ..., -1.27721442,\n",
       "        -1.28205041, -1.28688806],\n",
       "       [-1.28793644, -1.28309843, -1.27826208, ..., -1.27342739,\n",
       "        -1.27826208, -1.28309843]])"
      ]
     },
     "execution_count": 45,
     "metadata": {},
     "output_type": "execute_result"
    }
   ],
   "source": [
    "dm.certification_offset"
   ]
  },
  {
   "cell_type": "code",
   "execution_count": 23,
   "metadata": {},
   "outputs": [
    {
     "name": "stdout",
     "output_type": "stream",
     "text": [
      "focal length:  0.027712812921102045\n"
     ]
    }
   ],
   "source": [
    "dm = DM()"
   ]
  },
  {
   "cell_type": "code",
   "execution_count": null,
   "metadata": {},
   "outputs": [],
   "source": []
  },
  {
   "cell_type": "markdown",
   "metadata": {},
   "source": [
    "# MonoDepth\n"
   ]
  },
  {
   "cell_type": "code",
   "execution_count": 5,
   "metadata": {},
   "outputs": [
    {
     "ename": "ImportError",
     "evalue": "cannot import name 'download_model_if_doesnt_exist' from 'utils' (/media/haoming/970EVO/Pharuj/git/transfuser/team_code_transfuser/utils.py)",
     "output_type": "error",
     "traceback": [
      "\u001b[0;31m---------------------------------------------------------------------------\u001b[0m",
      "\u001b[0;31mImportError\u001b[0m                               Traceback (most recent call last)",
      "\u001b[0;32m/tmp/ipykernel_8437/3747749535.py\u001b[0m in \u001b[0;36m<module>\u001b[0;34m\u001b[0m\n\u001b[1;32m     13\u001b[0m \u001b[0msys\u001b[0m\u001b[0;34m.\u001b[0m\u001b[0mpath\u001b[0m\u001b[0;34m.\u001b[0m\u001b[0mappend\u001b[0m\u001b[0;34m(\u001b[0m\u001b[0;34m'/media/haoming/970EVO/Yaguang/depth_est/monodepth2'\u001b[0m\u001b[0;34m)\u001b[0m\u001b[0;34m\u001b[0m\u001b[0;34m\u001b[0m\u001b[0m\n\u001b[1;32m     14\u001b[0m \u001b[0;32mimport\u001b[0m \u001b[0mnetworks\u001b[0m\u001b[0;34m\u001b[0m\u001b[0;34m\u001b[0m\u001b[0m\n\u001b[0;32m---> 15\u001b[0;31m \u001b[0;32mfrom\u001b[0m \u001b[0mutils\u001b[0m \u001b[0;32mimport\u001b[0m \u001b[0mdownload_model_if_doesnt_exist\u001b[0m\u001b[0;34m\u001b[0m\u001b[0;34m\u001b[0m\u001b[0m\n\u001b[0m\u001b[1;32m     16\u001b[0m \u001b[0;31m# from __future__ import absolute_import, division, print_function\u001b[0m\u001b[0;34m\u001b[0m\u001b[0;34m\u001b[0m\u001b[0;34m\u001b[0m\u001b[0m\n\u001b[1;32m     17\u001b[0m \u001b[0;34m\u001b[0m\u001b[0m\n",
      "\u001b[0;31mImportError\u001b[0m: cannot import name 'download_model_if_doesnt_exist' from 'utils' (/media/haoming/970EVO/Pharuj/git/transfuser/team_code_transfuser/utils.py)"
     ]
    }
   ],
   "source": [
    "from __future__ import absolute_import, division, print_function\n",
    "%matplotlib inline\n",
    "\n",
    "import numpy as np\n",
    "import matplotlib.pyplot as plt\n",
    "from PIL import Image\n",
    "import PIL.Image as pil\n",
    "import os\n",
    "import sys\n",
    "import torch\n",
    "from torchvision import transforms\n",
    "\n",
    "sys.path.append('/media/haoming/970EVO/Yaguang/depth_est/monodepth2')\n",
    "import networks\n",
    "from utils import download_model_if_doesnt_exist\n",
    "# from __future__ import absolute_import, division, print_function\n",
    "\n",
    "\n"
   ]
  },
  {
   "cell_type": "markdown",
   "metadata": {},
   "source": [
    "# Add Depth Noise to the Lidar"
   ]
  },
  {
   "cell_type": "code",
   "execution_count": 57,
   "metadata": {},
   "outputs": [
    {
     "name": "stdout",
     "output_type": "stream",
     "text": [
      "[[ 3.6069431e+01  0.0000000e+00  6.3600106e+00  8.6372274e-01]\n",
      " [ 3.6260956e+01  2.4291015e-01  6.3939281e+00  8.6304826e-01]\n",
      " [ 3.6285606e+01  7.2929686e-01  6.3994184e+00  8.6293900e-01]\n",
      " ...\n",
      " [ 4.3859177e+00 -1.4693359e-01 -2.5336266e+00  9.7993499e-01]\n",
      " [ 4.3880272e+00 -5.8789060e-02 -2.5336537e+00  9.7993481e-01]\n",
      " [ 4.3883204e+00 -2.9394530e-02 -2.5336628e+00  9.7993481e-01]]\n",
      "[[ 4.8518909e+01  0.0000000e+00  8.5551882e+00  8.6372274e-01]\n",
      " [ 2.2569710e+01  1.5119325e-01  3.9797380e+00  8.6304826e-01]\n",
      " [ 2.4675386e+01  4.9594545e-01  4.3518114e+00  8.6293900e-01]\n",
      " ...\n",
      " [ 5.4590459e+00 -1.8288468e-01 -3.1535437e+00  9.7993499e-01]\n",
      " [ 4.2659626e+00 -5.7153687e-02 -2.4631736e+00  9.7993481e-01]\n",
      " [ 3.1268234e+00 -2.0944573e-02 -1.8053185e+00  9.7993481e-01]]\n"
     ]
    }
   ],
   "source": [
    "import os\n",
    "import time\n",
    "import cv2 as cv\n",
    "import numpy as np\n",
    "import matplotlib.pyplot as plt\n",
    "\n",
    "input_data = np.load(\"/media/haoming/970EVO/Yaguang/examples/test_data/0030.npy\", allow_pickle=True)\n",
    "lidar_data = input_data[1]\n",
    "N, _ = lidar_data.shape\n",
    "b = 1\n",
    "sigma_i = np.random.uniform(-b, b, N)\n",
    "exp_sigma_i = np.exp(sigma_i)\n",
    "print(lidar_data)\n",
    "lidar_data[:,:3] = lidar_data[:,:3] * exp_sigma_i.reshape(-1, 1)\n",
    "\n",
    "print(lidar_data)"
   ]
  },
  {
   "cell_type": "code",
   "execution_count": 55,
   "metadata": {},
   "outputs": [
    {
     "ename": "ValueError",
     "evalue": "operands could not be broadcast together with shapes (29735,3) (29735,) ",
     "output_type": "error",
     "traceback": [
      "\u001b[0;31m---------------------------------------------------------------------------\u001b[0m",
      "\u001b[0;31mValueError\u001b[0m                                Traceback (most recent call last)",
      "\u001b[0;32m/tmp/ipykernel_8437/3086010924.py\u001b[0m in \u001b[0;36m<module>\u001b[0;34m\u001b[0m\n\u001b[0;32m----> 1\u001b[0;31m \u001b[0mlidar_data\u001b[0m\u001b[0;34m[\u001b[0m\u001b[0;34m:\u001b[0m\u001b[0;34m,\u001b[0m\u001b[0;34m:\u001b[0m\u001b[0;36m3\u001b[0m\u001b[0;34m]\u001b[0m \u001b[0;34m=\u001b[0m \u001b[0mlidar_data\u001b[0m\u001b[0;34m[\u001b[0m\u001b[0;34m:\u001b[0m\u001b[0;34m,\u001b[0m\u001b[0;34m:\u001b[0m\u001b[0;36m3\u001b[0m\u001b[0;34m]\u001b[0m \u001b[0;34m*\u001b[0m \u001b[0mexp_sigma_i\u001b[0m\u001b[0;34m\u001b[0m\u001b[0;34m\u001b[0m\u001b[0m\n\u001b[0m\u001b[1;32m      2\u001b[0m \u001b[0mprint\u001b[0m\u001b[0;34m(\u001b[0m\u001b[0mlidar_data\u001b[0m\u001b[0;34m)\u001b[0m\u001b[0;34m\u001b[0m\u001b[0;34m\u001b[0m\u001b[0m\n",
      "\u001b[0;31mValueError\u001b[0m: operands could not be broadcast together with shapes (29735,3) (29735,) "
     ]
    }
   ],
   "source": [
    "lidar_data[:,:3] = lidar_data[:,:3] * exp_sigma_i\n",
    "print(lidar_data)\n"
   ]
  },
  {
   "cell_type": "code",
   "execution_count": 53,
   "metadata": {},
   "outputs": [
    {
     "data": {
      "text/plain": [
       "array([[1.18170411],\n",
       "       [1.172861  ],\n",
       "       [1.47876924],\n",
       "       ...,\n",
       "       [2.56856379],\n",
       "       [1.93158361],\n",
       "       [1.16157247]])"
      ]
     },
     "execution_count": 53,
     "metadata": {},
     "output_type": "execute_result"
    }
   ],
   "source": [
    "exp_sigma_i"
   ]
  },
  {
   "cell_type": "code",
   "execution_count": 38,
   "metadata": {},
   "outputs": [
    {
     "data": {
      "text/plain": [
       "array([[ 3.6069431e+01,  0.0000000e+00,  6.3600106e+00],\n",
       "       [ 3.6260956e+01,  2.4291015e-01,  6.3939281e+00],\n",
       "       [ 3.6285606e+01,  7.2929686e-01,  6.3994184e+00],\n",
       "       ...,\n",
       "       [ 4.3859177e+00, -1.4693359e-01, -2.5336266e+00],\n",
       "       [ 4.3880272e+00, -5.8789060e-02, -2.5336537e+00],\n",
       "       [ 4.3883204e+00, -2.9394530e-02, -2.5336628e+00]], dtype=float32)"
      ]
     },
     "execution_count": 38,
     "metadata": {},
     "output_type": "execute_result"
    }
   ],
   "source": [
    "lidar_data"
   ]
  },
  {
   "cell_type": "code",
   "execution_count": null,
   "metadata": {},
   "outputs": [],
   "source": []
  }
 ],
 "metadata": {
  "kernelspec": {
   "display_name": "tfuse-pharuj",
   "language": "python",
   "name": "python3"
  },
  "language_info": {
   "codemirror_mode": {
    "name": "ipython",
    "version": 3
   },
   "file_extension": ".py",
   "mimetype": "text/x-python",
   "name": "python",
   "nbconvert_exporter": "python",
   "pygments_lexer": "ipython3",
   "version": "3.7.13"
  }
 },
 "nbformat": 4,
 "nbformat_minor": 2
}
